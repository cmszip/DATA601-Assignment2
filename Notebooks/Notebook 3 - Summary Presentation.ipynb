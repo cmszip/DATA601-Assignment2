{
 "cells": [
  {
   "cell_type": "markdown",
   "metadata": {},
   "source": [
    "<img src = '../Images/BaltimorePanoramic.jpg' width = 850/>\n",
    "\n",
    "# Forecasting in Hindsight: Assessing if Baltimore's 8 Day Forecasted Temperatures are in Line with Historical Norms\n",
    "\n",
    "### Fall has arrived, and with it, cooler temperatures are to be expected. But, knowing temperatures can fluctuate from day to day, are the forecasted temperatures typical for this time of year?\n",
    "\n",
    "This notebook seeks to answer this question. To resolve it, we will be taking the eight day forecast from [OpenWeather API](https://openweathermap.org/api) and comparing it to historical data for the same dates between 1950 and 2018. The API data was pulled on October 3, 2020 for dates including October 3, 2020 to October 10, 2020. The historical weather data was taken from Carnegie Mellon University's compiled United States Weather Station data taken from the weather station at Baltimore-Washington Thurgood Marshall International Airport (BWI). These datasets can be found [here](https://kilthub.cmu.edu/articles/dataset/Compiled_daily_temperature_and_precipitation_data_for_the_U_S_cities/7890488?file=20881932). The datasets were cleaned and merged into a single csv file, which will be used here.\n",
    "\n",
    "We will use this information to review whether the forecast is typical and within norms for this time historically.\n",
    "\n",
    "If you wish to review how this data was retrieved and cleaned, including how to utilize the API, please refer to [Notebook 1 - Weather Data Acquisition & Cleaning](https://github.com/cmszip/DATA601-Assignment2/blob/main/Notebooks/Notebook%201%20-%20Weather%20Data%20Acquisition%20%26%20Cleaning.ipynb).\n",
    "\n",
    "### Terminology\n",
    "\n",
    "For reference, here are some terms from the table:\n",
    "\n",
    "- <b>Date</b>: This is the date for the given temperature readings or forecast.<br>\n",
    "    - <b>Decade</b>: This is the decade that the corresponding date belongs to.<br>\n",
    "    - <b>Year</b>: This is the year of the corresponding date.<br>\n",
    "    - <b>Month</b>: This is the month of the corresponding date.<br>\n",
    "    - <b>Day</b>: This is the day of the corresponding date.<br>\n",
    "- <b>min</b>: This is the minimum or low temperature of the corresponding date.<br>\n",
    "- <b>max</b>: This is the maximum or high temperature of the corresponding date.<br>\n",
    "- <b>mean</b>: This is the mean or average temperature of the corresponding date.<br>\n",
    "\n",
    "### Summary\n",
    "\n",
    "The forecasted temperatures for Baltimore, MD, USA for the week dating from October 3, 2020 to October 10, 2020 are common for the time period historically. The average forecasted high temperature is approximately 1.5 degrees Fahrenheit below the average high from 1950 to 2018. However, the average forecasted low temperature is more than 6 degrees Fahrenheit above the the average low from 1950 to 2018. What is most notable is that the temperature is rather stable, as the difference between the forecasted high and low temperatures is only 63.68% of the average historic difference between high and low temperatures. This means that we can expect less temperature change during the upcoming week than is typical. No heavy coats needed yet. \n",
    "\n",
    "### Checking Data\n",
    "\n",
    "You may have noticed that we are using a mean temperature value rather than a median. The reasoning is that there are few outliers in our temperature data and both the daily high and low temperatures are close to normally distributed. The box plots and histograms below show this.\n",
    "\n",
    "<img src = '../Images/BoxPlotHigh.png' width = 550/>\n",
    "<img src = '../Images/HighTempHistogram.png' width = 550/>\n",
    "<img src = '../Images/BoxPlotLow.png' width = 550/>\n",
    "<img src = '../Images/LowTempHistogram.png' width = 550/>\n"
   ]
  },
  {
   "cell_type": "markdown",
   "metadata": {},
   "source": [
    "### Comparing Forecast to Past Data\n",
    "Now that we have seen the distribution of the historical data, we should compare the forecast to it. In the first chart, we will compare the forecasted temperature to extremes and the mean. The shaded region is the temperature range of the forecast.\n",
    "\n",
    "<img src = '../Images/ForecastComparison1.png' width = 750/>\n",
    "\n",
    "We see that the forecasted weather is well within the extremes and only strays from the mean temperature slightly on October 7. So the forecast is not one of extremes.\n",
    "\n",
    "Let's compare the forecasted high and low temperatures to the historic averages. We will begin by comparing it to the average high temperatures.\n",
    "\n",
    "<img src = '../Images/ForecastComparison2.png' width = 750/>\n",
    "<img src = '../Images/HighTempBar.png' width = 550/>\n",
    "\n",
    "At first glance, the daily high temperature seems more erratic than the historic mean high temperature. This is a function of sample size, as the historic daily mean high is from 69 values as opposed to 1 value for the forecasted high. We also see that there is very little difference in the average high temperatures between the forecast and historic values. In fact, the difference is only -1.503 degrees Fahrenheit, meaning the forecasted high--on average--is just slightly lower than the historic average. \n",
    "\n",
    "Let's take a look at the low temperatures."
   ]
  },
  {
   "cell_type": "markdown",
   "metadata": {},
   "source": [
    "<img src = '../Images/ForecastComparison3.png' width = 750/>\n",
    "<img src = '../Images/LowTempBar.png' width = 550/>\n",
    "\n",
    "We see that the in the line graph, the forecasted daily low temperature is, with one exception, consistently higher than the historic average daily low. As a result, there is a greater difference between the average low temperatures of the forecasted and historic datasets. From the bar chart, we see the forecast calls for low temperatures that are, on average, 6.214 degrees Fahrenheit above the historic mean. We can therefore expect nighttime temperatures to be slightly warmer than usual.\n",
    "\n",
    "Let's explore these further to get a better view of how the forecasted temperature compares to the historic averages. In the graph below, we will be combining the line graphs you've seen above of the daily high and low temperatures from both the forecast and historic datasets. The shaded area is the forecasted temperature range."
   ]
  },
  {
   "cell_type": "markdown",
   "metadata": {},
   "source": [
    "<img src = '../Images/ForecastComparison4.png' width = 750/>\n",
    "\n",
    "What we see is that the forecast calls for temperatures that are mostly within the historic averages. What stands out is that the difference between the forecast's daily high and low temperatures is smaller than the gap between the historic average high and low temperatures. You'll notice that the blue and orange lines are both outside of the shaded area for more than half of the length of the chart. This would suggest that the forecasted temperature is more stable than usual, with less temperature change over the course of the given days than is to be expected. When we calculate this, we get the following results:\n",
    "    * The difference between the forecasted daily high and low temperatures is: 13.532 degrees Fahrenheit\n",
    "    * The difference between the historic avg daily high and low temperatures is: 21.25 degrees Fahrenheit\n",
    "    * The forecast daily temperature range is smaller than the historic average by 7.718 degrees Fahrenheit, or 36.32%"
   ]
  },
  {
   "cell_type": "markdown",
   "metadata": {},
   "source": [
    "### Conclusion\n",
    "In conclusion, we find that while the forecasted daily high and low temperatures are fairly common for this time of year in Baltimore, the forecasted temperature is uncommonly stable. The forecasted high temperatures are only 1.5 degrees Fahrenheit below the average, but the forecasted low temperatures are 6 degrees higher than normal. This creates a narrower range of temperatures each day.\n",
    "\n",
    "As a result, we can expect that the daily low temperature will be comparatively close to the daily high temperature. For practical purposes, this also means that you can be fairly consistent with your clothing throughout the day and into the night, which isn't so common in fall.\n",
    "\n",
    "### Limitations\n",
    "One of the main limitations of this project regards the dataset. It is only 568 rows. This is due mainly to the small window of time we are exploring (an eight day period). Additionally, while the original dataset from Carnegie Mellon University contains data beginning in 1871, we decided to remove all data from before 1950. The reasoning behind this is that the original US Weather Station for Baltimore was located in downtown Baltimore until 1950, when it was moved to its current location at the airport that is now known as BWI. For consistency of data, the decision to shrink the dataset was made. Further exploration to compare the forecast to dates beginning in the 1870s could be done, however."
   ]
  }
 ],
 "metadata": {
  "kernelspec": {
   "display_name": "Python 3",
   "language": "python",
   "name": "python3"
  },
  "language_info": {
   "codemirror_mode": {
    "name": "ipython",
    "version": 3
   },
   "file_extension": ".py",
   "mimetype": "text/x-python",
   "name": "python",
   "nbconvert_exporter": "python",
   "pygments_lexer": "ipython3",
   "version": "3.8.3"
  }
 },
 "nbformat": 4,
 "nbformat_minor": 4
}
